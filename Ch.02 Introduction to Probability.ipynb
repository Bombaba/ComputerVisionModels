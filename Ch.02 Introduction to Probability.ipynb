{
 "cells": [
  {
   "cell_type": "markdown",
   "metadata": {},
   "source": [
    "## Problem 2.1\n",
    "\n",
    "**Give a real-world example of a joint distribution $Pr(x, y)$ where $x$ is discrete and $y$ is continuous.**"
   ]
  },
  {
   "cell_type": "markdown",
   "metadata": {},
   "source": [
    "The batting average. $x$ is a player and $y$ is his/her batting average."
   ]
  },
  {
   "cell_type": "markdown",
   "metadata": {},
   "source": [
    "## Problem 2.2\n",
    "\n",
    "**What remains if I marginalize a joint distribution $Pr(v, w, x, y, z)$ over five variables with respect to variables $w$ and $y$?  What remains if I marginalize the resulting distribution with respect $v$? **"
   ]
  },
  {
   "cell_type": "markdown",
   "metadata": {},
   "source": [
    "Remains fter marginalizing with respect to $w$ and $y$: $v, x, z$\n",
    "\n",
    "Remains fter marginalizing with respect to $v$ afterwards: $x, z$"
   ]
  },
  {
   "cell_type": "markdown",
   "metadata": {},
   "source": [
    "## Problem 2.3\n",
    "\n",
    "**Show that the following relation is true: $Pr(w, x, y, z) = Pr(x, y)Pr(z|w, x, y)Pr(w|x, y)$**"
   ]
  },
  {
   "cell_type": "markdown",
   "metadata": {},
   "source": [
    "\\begin{equation}\n",
    "\\begin{split}\n",
    "  Pr(w, x, y, z) &= Pr(z|w, x, y)Pr(w, x, y) \\\\\n",
    "                 &= Pr(z|w, x, y)Pr(w|x, y)Pr(x, y)\n",
    "\\end{split}\n",
    "\\end{equation}"
   ]
  },
  {
   "cell_type": "markdown",
   "metadata": {},
   "source": [
    "## Problem 2.4\n",
    "\n",
    "**In my pocket there are two coins.  Coin 1 is unbiased, so the likelihood $Pr(h = 1|c = 1)$ of getting heads is 0.5 and the likelihood $Pr(h = 0|c = 1)$ of getting tails is also 0.5.  Coin 2 is biased, so the likelihood $Pr(h = 1|c = 2)$ of getting heads is 0.8 and the likelihood $Pr(h = 0|c = 2)$ of getting tails is 0.2.  I rach into my pocket and draw one of the coins at random.  There is an equal prior probability I might have picked either coin.  I flip the coin and observe a head.  Use Bayes' rule to compute the posterior probability that I chose coin 2.**"
   ]
  },
  {
   "cell_type": "markdown",
   "metadata": {},
   "source": [
    "According to the Bayes' rule,\n",
    "\n",
    "\\begin{equation}\n",
    "\\begin{split}\n",
    "  Pr(c = 2|h = 1) &= \\frac{Pr(h = 1|c = 2)Pr(c = 2)}{Pr(h = 1)} \\\\\n",
    "                  &= \\frac{Pr(h = 1|c = 2)Pr(c = 2)}{\\sum_{c=1, 2}Pr(h = 1|c)Pr(c)} \\\\\n",
    "                  &= \\frac{0.8 \\times 0.5}{0.5 \\times 0.5 + 0.8 \\times 0.5} \\\\\n",
    "                  &= \\frac{8}{13}\n",
    "\\end{split}\n",
    "\\end{equation}"
   ]
  },
  {
   "cell_type": "markdown",
   "metadata": {},
   "source": [
    "## Problem 2.5\n",
    "\n",
    "**If variables $x$ and $y$ are independent and variables $x$ and $z$ are independent, does it follow that variables $y$ and $z$ are independent?**"
   ]
  },
  {
   "cell_type": "markdown",
   "metadata": {},
   "source": [
    "**No**. For example, when $y = z$."
   ]
  },
  {
   "cell_type": "markdown",
   "metadata": {},
   "source": [
    "## Problem 2.6\n",
    "\n",
    "**Use equation 2.3 to show that when $x$ and $y$ are independent, the marginal distribution $Pr(x)$ is the same as the conditional distribution $Pr(x|y = y^*)$ for any $y^*$.**"
   ]
  },
  {
   "cell_type": "markdown",
   "metadata": {},
   "source": [
    "When $x$ and $y$ are independent, we see $Pr(x, y) = Pr(x)Pr(y)$.  Hense, equation 2.3 leads to:\n",
    "\n",
    "\\begin{equation}\n",
    "\\begin{split}\n",
    "  Pr(x|y = y^*) &= \\frac{Pr(x, y = y^*)}{Pr(y = y^*)} \\\\\n",
    "                &= \\frac{Pr(x)Pr(y = y^*)}{Pr(y = y^*)} \\\\\n",
    "                &= Pr(x)\n",
    "\\end{split}\n",
    "\\end{equation}"
   ]
  },
  {
   "cell_type": "markdown",
   "metadata": {},
   "source": [
    "## Problem 2.7\n",
    "\n",
    "**The joint probability $Pr(w, x, y, z)$ over four variables factrizes as $$\n",
    "  Pr(w, x, y, z) = Pr(w)Pr(z|y)Pr(y|x, w)Pr(x)\n",
    "$$ Demonstrate that $x$ is independent of $w$ showing that $Pr(x, w) = Pr(x)Pr(w)$**"
   ]
  },
  {
   "cell_type": "markdown",
   "metadata": {},
   "source": [
    "We can factorize $Pr(w, x, y, z)$ as:\n",
    "\n",
    "\\begin{equation}\n",
    "\\begin{split}\n",
    "  Pr(w, x, y, z) &= Pr(z|y, x, w)Pr(y|x, w)Pr(x, w) \\\\\n",
    "                 &= Pr(z|y)Pr(y|x, w)Pr(x, w) \\qquad \\text{(when $z$ is independent of $x, w$)}.\n",
    "\\end{split}\n",
    "\\end{equation}\n",
    "\n",
    "\n",
    "According to the given condition, the probability factorizes as:\n",
    "\n",
    "\\begin{equation}\n",
    "  Pr(w, x, y, z) = Pr(z|y)Pr(y|x, w)Pr(x)Pr(w)\n",
    "\\end{equation}\n",
    "\n",
    "These equations lead to:\n",
    "\n",
    "\\begin{align}\n",
    "  Pr(z|y)Pr(y|x, w)Pr(x, w) &= Pr(z|y)Pr(y|x, w)Pr(x)Pr(w) \\\\\n",
    "  Pr(x, w) &= Pr(x)Pr(w)\n",
    "\\end{align}"
   ]
  },
  {
   "cell_type": "markdown",
   "metadata": {},
   "source": [
    "## Problem 2.8\n",
    "\n",
    "**Consider a biased die where the probabilities of rolling sides $\\{1, 2, 3, 4, 5, 6\\}$ are $\\{1/12, 1/12, 1/12, 1/12, 1/6, 1/2\\}$, respcectively.  What is the expected value of the die?  If I roll the die twice, what is the expected value of the sum of the two rolls?"
   ]
  },
  {
   "cell_type": "markdown",
   "metadata": {},
   "source": [
    "Suppose $x$ is the variables of the value of the die.  The expected value of $x$ is:"
   ]
  },
  {
   "cell_type": "markdown",
   "metadata": {},
   "source": [
    "\\begin{equation}\n",
    "\\begin{split}\n",
    "  E[x] &= \\displaystyle\\sum_{x}xPr(x)  \\\\\n",
    "       &= 1 \\cdot \\frac{1}{12} + 2 \\cdot \\frac{1}{12} + 3 \\cdot \\frac{1}{12} + 4 \\cdot \\frac{1}{12} + 5 \\cdot \\frac{1}{6} + 6 \\cdot \\frac{1}{2}  \\\\\n",
    "       &= \\frac{14}{3}\n",
    "\\end{split}\n",
    "\\end{equation}"
   ]
  },
  {
   "cell_type": "markdown",
   "metadata": {},
   "source": [
    "Now, Let $x_1$ and $x_2$ the values of the die, which are of the first and second trials, respectively.  Because of the property of the expected value,"
   ]
  },
  {
   "cell_type": "markdown",
   "metadata": {},
   "source": [
    "\\begin{align}\n",
    "  &E[x_1] = E[x_2] = E[x] = \\frac{14}{3}  \\\\\n",
    "  &E[x_1 + x_2] = E[x_1] + E[x_2] = \\frac{28}{3} \n",
    "\\end{align}"
   ]
  },
  {
   "cell_type": "markdown",
   "metadata": {
    "collapsed": true
   },
   "source": [
    "## Problem 2.9\n",
    "\n",
    "**Prove the four  relations for maniplating expectations. $$\n",
    "\\begin{split}\n",
    "  E[\\kappa]      &= \\kappa, \\\\\n",
    "  E[\\kappa f[x]] &= \\kappa E[f[x]], \\\\\n",
    "  E[f[x] + g[x]] &= E[f[x]] + E[g[x]],  \\\\\n",
    "  E[f[x]g[y]]    &= E[f[x]]E[g[y]], \\quad \\text{if $x, y$ independent.}\n",
    "\\end{split}\n",
    "$$**"
   ]
  },
  {
   "cell_type": "markdown",
   "metadata": {},
   "source": [
    "\\begin{equation}\n",
    "  E[\\kappa] = \\sum \\kappa Pr(1) = \\kappa\n",
    "\\end{equation}\n",
    "\n",
    "\\begin{equation}\n",
    "\\begin{split}\n",
    "  E[\\kappa f[x]] &= \\int\\kappa f[x]Pr(x)dx \\\\\n",
    "                 &= \\kappa\\int f[x]Pr(x)dx \\\\\n",
    "                 &= \\kappa E[f[x]]\n",
    "\\end{split}\n",
    "\\end{equation}\n",
    "\n",
    "\\begin{equation}\n",
    "\\begin{split}\n",
    "  E[f[x] + g[x]] &= \\int (f[x] + g[x])Pr(x)dx \\\\\n",
    "                 &= \\int f[x]Pr(x)dx + \\int g[x]Pr(x)dx \\\\\n",
    "                 &= E[f[x]] + E[g[x]]  \\\\\n",
    "\\end{split}\n",
    "\\end{equation}\n",
    "\n",
    "\\begin{equation}\n",
    "\\begin{split}\n",
    "  E[f[x]g[y]]    &= \\int\\!\\!\\!\\!\\int f[x]g[y]Pr(x, y)dxdy  \\\\\n",
    "                 &= \\int\\!\\!\\!\\!\\int f[x]g[y]Pr(x)Pr(y)dxdy  \\qquad \\text{since $x, y$ are independent} \\\\\n",
    "                 &= \\int g[y]Pr(y) \\biggl(\\int f[x]Pr(x) dx\\biggr)dy \\\\\n",
    "                 &= \\int f[x]Pr(x)dx \\int g[x]Pr(y)dy  \\\\\n",
    "                 &= E[f[x]]E[g[y]]\n",
    "\\end{split}\n",
    "\\end{equation}"
   ]
  },
  {
   "cell_type": "markdown",
   "metadata": {
    "collapsed": true
   },
   "source": [
    "## Problem 2.10\n",
    "\n",
    "**Use the relations from problem 2.9 to prove the following relationship between the second moment around zero and the second moment about the mean(variance): $$\n",
    "  E[(x - \\mu)^2] = E[x^2] - E[x]E[x].\n",
    "$$**"
   ]
  },
  {
   "cell_type": "markdown",
   "metadata": {},
   "source": [
    "\\begin{equation}\n",
    "\\begin{split}\n",
    "  E[(x - \\mu)^2] &= E[x^2 - 2\\mu x + \\mu^2]  \\\\\n",
    "                 &= E[x^2] - E[2\\mu x] + E[\\mu^2] \\quad \\text{since} \\; E[f[x] + g[x]] = E[f[x]] + E[g[x]]  \\\\\n",
    "                 &= E[x^2] - 2\\mu E[x] + \\mu^2 \\quad \\text{since} \\; E[\\kappa f[x]] = \\kappa E[f[x]] \\; \\text{and} \\; E[\\kappa] = \\kappa  \\\\\n",
    "                 &= E[x^2] - 2E[x]E[x] + E[x]E[x]  \\quad \\text{since} \\; \\mu = E[x] \\\\\n",
    "                 &= E[x^2] - E[x]E[x]\n",
    "\\end{split}\n",
    "\\end{equation}"
   ]
  },
  {
   "cell_type": "code",
   "execution_count": null,
   "metadata": {
    "collapsed": true
   },
   "outputs": [],
   "source": []
  }
 ],
 "metadata": {
  "_draft": {
   "nbviewer_url": "https://gist.github.com/18cfce2c2a116b7a9fcdd489b4b19388"
  },
  "gist": {
   "data": {
    "description": "CVmodels/Ch.02 Introduction to Probability.ipynb",
    "public": true
   },
   "id": "18cfce2c2a116b7a9fcdd489b4b19388"
  },
  "hide_input": false,
  "kernelspec": {
   "display_name": "Python 3",
   "language": "python",
   "name": "python3"
  },
  "language_info": {
   "codemirror_mode": {
    "name": "ipython",
    "version": 3
   },
   "file_extension": ".py",
   "mimetype": "text/x-python",
   "name": "python",
   "nbconvert_exporter": "python",
   "pygments_lexer": "ipython3",
   "version": "3.6.2"
  },
  "toc": {
   "colors": {
    "hover_highlight": "#DAA520",
    "navigate_num": "#000000",
    "navigate_text": "#333333",
    "running_highlight": "#FF0000",
    "selected_highlight": "#FFD700",
    "sidebar_border": "#EEEEEE",
    "wrapper_background": "#FFFFFF"
   },
   "moveMenuLeft": true,
   "nav_menu": {
    "height": "138px",
    "width": "252px"
   },
   "navigate_menu": true,
   "number_sections": false,
   "sideBar": true,
   "threshold": 4,
   "toc_cell": false,
   "toc_section_display": "block",
   "toc_window_display": false,
   "widenNotebook": false
  }
 },
 "nbformat": 4,
 "nbformat_minor": 2
}
