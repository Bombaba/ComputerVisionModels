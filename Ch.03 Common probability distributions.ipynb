{
 "cells": [
  {
   "cell_type": "markdown",
   "metadata": {},
   "source": [
    "## Problem 3.1\n",
    "\n",
    "**Consider a variable $x$ which is Bernoulli distributed with parameter $\\lambda$.  Show that the mean $\\mathrm{E}[x]$ is $\\lambda$ and the variance $\\mathrm{E}[(x - \\mathrm{E}[x])^2]$ is $\\lambda(1 - \\lambda)$.**"
   ]
  },
  {
   "cell_type": "markdown",
   "metadata": {},
   "source": [
    "\\begin{equation}\n",
    "\\begin{split}\n",
    "  Pr(x) &= \\mathrm{Bern}_x(\\lambda) \\\\\n",
    "        &= \\lambda^x(1 - \\lambda)^{1-x} \\\\\n",
    "\\end{split}\n",
    "\\end{equation}\n",
    "\n",
    "\\begin{equation}\n",
    "\\begin{split}\n",
    "  \\mathrm{E}[x] &= \\displaystyle\\sum_{x = 0,1}x\\lambda^x(1 - \\lambda)^{1-x} \\\\\n",
    "                &= 1\\cdot\\lambda + 0\\cdot(1 - \\lambda) \\\\\n",
    "                &= \\lambda\n",
    "\\end{split}\n",
    "\\end{equation}\n",
    "\n",
    "\\begin{equation}\n",
    "\\begin{split}\n",
    "  \\mathrm{E}[x^2] &= \\displaystyle\\sum_{x = 0,1}x^2\\lambda^x(1 - \\lambda)^{1-x} \\\\\n",
    "                  &= 1^2\\cdot\\lambda + 0^2\\cdot(1 - \\lambda) \\\\\n",
    "                  &= \\lambda\n",
    "\\end{split}\n",
    "\\end{equation}\n",
    "\n",
    "Hence,\n",
    "\n",
    "\\begin{equation}\n",
    "\\begin{split}\n",
    "  \\mathrm{E}[(x - \\mathrm{E}[x])^2] &= \\mathrm{E}[x^2] - \\mathrm{E}[x]^2 \\\\\n",
    "       &= \\lambda - \\lambda^2 \\\\\n",
    "       &= \\lambda(1 - \\lambda)\n",
    "\\end{split}\n",
    "\\end{equation}"
   ]
  },
  {
   "cell_type": "markdown",
   "metadata": {
    "collapsed": true
   },
   "source": [
    "## Problem 3.2\n",
    "\n",
    "**Calculate an expression for the mode (position of the peak) of the beta distribution with $\\alpha, \\beta > 1$ in terms of the parameters $\\alpha$ and $\\beta$.**"
   ]
  },
  {
   "cell_type": "markdown",
   "metadata": {},
   "source": [
    "The Beta distribution is written as:\n",
    "\n",
    "\\begin{equation}\n",
    "  Pr(\\lambda) = \\frac{\\Gamma(\\alpha + \\beta)}{\\Gamma(\\alpha) \\Gamma(\\beta)}\\lambda^{\\alpha-1}(1 - \\lambda)^{\\beta-1}\n",
    "\\end{equation}\n",
    "\n",
    "Then, the derivative of this distribution about $\\lambda$ is:\n",
    "\n",
    "\\begin{equation}\n",
    "\\begin{split}\n",
    "  \\frac{\\partial}{\\partial\\lambda}\\Pr(\\lambda) &= \\frac{\\Gamma(\\alpha + \\beta)}{\\Gamma(\\alpha) \\Gamma(\\beta)}\\bigl\\{(\\alpha-1)\\lambda^{\\alpha-2}(1 - \\lambda)^{\\beta-1} - (\\beta-1)\\lambda^{\\alpha-1}(1 - \\lambda)^{\\beta-2}) \\bigr\\} \\\\\n",
    "    &= \\frac{\\Gamma(\\alpha + \\beta)}{\\Gamma(\\alpha) \\Gamma(\\beta)}\\lambda^{\\alpha-1}(1 - \\lambda)^{\\beta-1}\\biggl(\\frac{\\alpha-1}{\\lambda} - \\frac{\\beta-1}{1-\\lambda}\\biggr) \\\\\n",
    "    &= \\Gamma(\\lambda)\\biggl(\\frac{\\alpha-1}{\\lambda} - \\frac{\\beta-1}{1-\\lambda}\\biggr)\n",
    "\\end{split}\n",
    "\\end{equation}\n",
    "\n",
    "Hense, the peak of this distribution is:\n",
    "\n",
    "\\begin{equation}\n",
    "  \\frac{\\partial}{\\partial \\lambda}\\Pr(\\lambda) = 0 \\implies \\frac{\\alpha-1}{\\lambda} - \\frac{\\beta-1}{1-\\lambda} = 0 \\\\\n",
    "  \\therefore \\lambda = \\frac{\\alpha - 1}{\\alpha + \\beta - 2}\n",
    "\\end{equation}"
   ]
  },
  {
   "cell_type": "markdown",
   "metadata": {
    "collapsed": true
   },
   "source": [
    "## Problem 3.3\n",
    "\n",
    "**The mean and variance of the beta distribution are given by the expressions$$\n",
    "\\begin{split}\n",
    "  E[\\lambda] = \\mu &= \\frac{\\alpha}{\\alpha + \\beta} \\\\\n",
    "  E[(\\lambda - \\mu)^2] = \\sigma^2 &= \\frac{\\alpha\\beta}{(\\alpha + \\beta)^2(\\alpha + \\beta + 1)}\n",
    "\\end{split}\n",
    "$$**\n",
    "\n",
    "**We may wish to choose the parameters $\\alpha$ and $\\beta$ so that the distribution has a particular mean $\\mu$ and variance $\\sigma^2$.  Derive suitable expressions for $\\alpha$ and $\\beta$ in terms of $\\mu$ and $\\sigma^2$.**"
   ]
  },
  {
   "cell_type": "markdown",
   "metadata": {
    "collapsed": true
   },
   "source": [
    "\\begin{align}\n",
    "  \\alpha &= \\mu\\biggl\\{\\frac{\\mu(1-\\mu)}{\\sigma^2} - 1\\biggr\\} \\\\\n",
    "  \\beta  &= (1 - \\mu)\\biggl\\{\\frac{\\mu(1-\\mu)}{\\sigma^2} - 1\\biggr\\}\n",
    "\\end{align}"
   ]
  },
  {
   "cell_type": "markdown",
   "metadata": {
    "collapsed": true
   },
   "source": [
    "## Problem 3.4\n",
    "\n",
    "**All of the distributions in this chapter are members of the _exponential family_ and can be written in the form$$\n",
    "  Pr(x|\\mathbf{\\theta}) = a[\\mathbf{x}]\\exp[\\mathbf{b}[\\mathbf{\\theta}]^T\\mathbf{c}[\\mathbf{x}]-d[\\mathbf{\\theta}]],\n",
    "$$ where $a[\\mathbf{x}]$ and $\\mathbf{c}[\\mathbf{x}]$ are functions of the data and $\\mathbf{b}[\\mathbf{\\theta}]$ and $d[\\mathbf{\\theta}]$ are functions of the parameters.  Find the functions $a[\\mathbf{x}]$, $\\mathbf{b}[\\mathbf{\\theta}]$, $\\mathbf{c}[\\mathbf{x}]$ and $d[\\mathbf{\\theta}]$ that allow the Beta distribution to be represented in the generalized form of the exponential family.**"
   ]
  },
  {
   "cell_type": "markdown",
   "metadata": {},
   "source": [
    "Define:\n",
    "\n",
    "\\begin{equation}\n",
    "\\begin{split}\n",
    "  a[\\mathbf{x}] &= 1 \\\\\n",
    "  \\mathbf{b}[\\mathbf{\\theta}] &= (\\alpha-1, \\beta-1)^T \\\\\n",
    "  \\mathbf{c}[\\mathbf{x}] &= (\\ln x, \\ln(1 - x))^T \\\\\n",
    "  d[\\mathbf{\\theta}] &= \\ln\\Gamma(\\alpha + \\beta) - \\ln\\Gamma(\\alpha) - \\ln\\Gamma(\\beta) \\\\\n",
    "\\end{split}\n",
    "\\end{equation}\n",
    "\n",
    "Then the Beta distribution is written as:\n",
    "\n",
    "\\begin{equation}\n",
    "\\begin{split}\n",
    "  Pr(x) &= \\frac{\\Gamma(\\alpha + \\beta)}{\\Gamma(\\alpha)\\Gamma(\\beta)}x^{\\alpha-1}(1-x)^{\\beta-1}  \\\\\n",
    "              &= \\exp[\\ln[\\Gamma(\\alpha + \\beta)] - \\ln[\\Gamma(\\alpha)] - \\ln[\\Gamma(\\beta)] + (\\alpha-1)\\ln[x] + (\\beta-1)\\ln[1-x]] \\\\\n",
    "              &= a[\\mathbf{x}]\\exp[\\mathbf{b}[\\mathbf{\\theta}]^T\\mathbf{c}[\\mathbf{x}] - d[\\mathbf{\\theta}]]\n",
    "\\end{split}\n",
    "\\end{equation}"
   ]
  },
  {
   "cell_type": "markdown",
   "metadata": {
    "collapsed": true
   },
   "source": [
    "## Problem 3.5\n",
    "\n",
    "**Use integration by parts to prove that if $$\n",
    "  \\Gamma[z] = \\int_0^{\\infty}t^{z-1}e^{-t}dt,\n",
    "$$ then $$\n",
    "  \\Gamma[z + 1] = z\\Gamma[z].\n",
    "$$**"
   ]
  },
  {
   "cell_type": "markdown",
   "metadata": {},
   "source": [
    "\\begin{equation}\n",
    "\\begin{split}\n",
    "  \\Gamma[z + 1] &= \\int_0^{\\infty}t^{z}e^{-t}dt \\\\\n",
    "                &= \\int_0^{\\infty}t^{z}(-e^{-t})'dt \\\\\n",
    "                &= -t^{z}e^{-1}\\big\\vert_{t=0}^{t=\\infty} + \\int_0^{\\infty}\\frac{\\partial}{\\partial t}(t^{z})e^{-t}dt \\\\\n",
    "                &= z\\int_0^{\\infty}t^{z-1}e^{-t}dt \\\\\n",
    "                &= z\\Gamma[z]\n",
    "\\end{split}\n",
    "\\end{equation}"
   ]
  },
  {
   "cell_type": "markdown",
   "metadata": {
    "collapsed": true
   },
   "source": [
    "## Problem 3.6\n",
    "\n",
    "**Consider a restricted family of univariate normal distributions where the variance is always 1, so that $$\n",
    "    Pr(x|u) = \\frac{1}{\\sqrt{2\\pi}}\\exp\\bigl[-0.5(x - \\mu)^2\\bigr].\n",
    "$$**\n",
    "\n",
    "**Show that a normal distribution over the parameter $\\mu$ $$\n",
    "    Pr(\\mu) = \\text{Norm}_{\\mu}[\\mu_p, \\sigma_p^2]\n",
    "$$ has a conjugate relationship to the restricted normal distribution.**"
   ]
  },
  {
   "cell_type": "markdown",
   "metadata": {},
   "source": [
    "Since\n",
    "\n",
    "\\begin{equation}\n",
    "\\begin{split}\n",
    "  Pr(\\mu) &= \\text{Norm}_{\\mu}[\\mu_p, \\sigma_p^2] \\\\\n",
    "          &= \\frac{1}{\\sqrt{2\\pi\\sigma_p^2}}\\exp\\bigl[-0.5(\\mu - \\mu_p)^2/\\sigma_p^2\\bigr],\n",
    "\\end{split}\n",
    "\\end{equation}\n",
    "\n",
    "then\n",
    "\n",
    "\\begin{equation}\n",
    "\\begin{split}\n",
    "  Pr(x|\\mu)Pr(\\mu) &= \\text{Norm}_{x}[\\mu, 1] \\cdot \\text{Norm}_{\\mu}[\\mu_p, \\sigma_p^2] \\\\\n",
    "          &= \\frac{1}{\\sqrt{2\\pi}\\sqrt{2\\pi\\sigma_p^2}}\\exp\\bigl[-0.5(x - \\mu)^2 - 0.5(\\mu - \\mu_p)^2/\\sigma_p^2\\bigr] \\\\\n",
    "          &= \\frac{1}{\\sqrt{2\\pi}\\sqrt{2\\pi\\sigma_p^2}}\\exp\\bigl[-0.5\\bigl\\{(\\sigma_p^2 + 1)\\mu^2 - 2(x\\sigma_p^2 + \\mu_p)\\mu + x^2\\sigma_p^2 + \\mu_p^2\\bigr\\}/\\sigma_p^2\\bigr] \\\\\n",
    "          &= \\frac{1}{\\sqrt{2\\pi}\\sqrt{2\\pi\\sigma_p^2}}\\exp\\biggl[-0.5\\biggl\\{\\frac{\\mu^2 - 2(x\\sigma_p^2 + \\mu_p)\\mu\\big/(\\sigma_p^2 + 1)}{\\sigma_p^2/(\\sigma_p^2 + 1)} + \\frac{x^2\\sigma_p^2 + \\mu_p^2}{\\sigma_p^2}\\biggr\\}\\biggr] \\\\\n",
    "          &= \\frac{1}{\\sqrt{2\\pi}\\sqrt{2\\pi\\sigma_p^2}}\\exp\\biggl[-0.5\\biggl\\{\\frac{\\big(\\mu - (x\\sigma_p^2 + \\mu_p)\\big/(\\sigma_p^2 + 1)\\big)^2}{\\sigma_p^2/(\\sigma_p^2 + 1)} - \\frac{\\sigma_p^2 + 1}{\\sigma_p^2}\\biggl(\\frac{x\\sigma_p^2 + \\mu_p}{\\sigma_p^2 + 1}\\biggr)^2+ \\frac{x^2\\sigma_p^2 + \\mu_p^2}{\\sigma_p^2}\\biggr\\}\\biggr] \\\\\n",
    "          &= \\frac{1}{\\sqrt{2\\pi}\\sqrt{2\\pi\\sigma_p^2}}\\exp\\biggl[-0.5\\biggl\\{\\frac{\\big(\\mu - (x\\sigma_p^2 + \\mu_p)\\big/(\\sigma_p^2 + 1)\\big)^2}{\\sigma_p^2/(\\sigma_p^2 + 1)} + \\frac{x^2 - 2x\\mu_p + \\mu_p^2}{\\sigma_p^2 + 1}\\biggr\\}\\biggr] \\\\\n",
    "          &= \\frac{1}{\\sqrt{2\\pi}\\sqrt{2\\pi\\sigma_p^2}}\\exp\\biggl[-0.5\\biggl\\{\\frac{\\big(\\mu - (x\\sigma_p^2 + \\mu_p)\\big/(\\sigma_p^2 + 1)\\big)^2}{\\sigma_p^2/(\\sigma_p^2 + 1)} + \\frac{(x - \\mu_p)^2}{\\sigma_p^2 + 1}\\biggr\\}\\biggr] \\\\\n",
    "\\end{split}\n",
    "\\end{equation}\n",
    "\n",
    "Defining\n",
    "\n",
    "\\begin{equation}\n",
    "\\begin{split}\n",
    "  \\tilde{\\mu} &= \\frac{x\\sigma_p^2 + \\mu_p}{\\sigma_p^2 + 1} \\\\\n",
    "  \\tilde{\\sigma}^2 &= \\frac{\\sigma_p^2}{\\sigma_p^2 + 1},\n",
    "\\end{split}\n",
    "\\end{equation}\n",
    "\n",
    "then the multiplication gets\n",
    "\n",
    "\\begin{equation}\n",
    "\\begin{split}\n",
    "  Pr(x|\\mu)Pr(\\mu) &= \\frac{1}{\\sqrt{2\\pi(\\sigma_p^2 + 1)}}\\exp\\biggl[-0.5\\frac{(x - \\mu_p^2)^2}{\\sigma_p^2 + 1}\\biggr] \\cdot \\frac{1}{\\sqrt{2\\pi\\tilde{\\sigma}^2}}\\exp\\biggl[-0.5\\frac{(\\mu - \\tilde{\\mu})^2}{\\tilde{\\sigma}^2}\\biggr] \\\\\n",
    "                   &= \\kappa(x, \\mu_p, \\sigma_p^2)\\text{Norm}_\\mu[\\tilde{\\mu}, \\tilde{\\sigma}^2]\n",
    "\\end{split}\n",
    "\\end{equation}\n",
    "\n",
    "Hense, a normal distirbution over the parameter $\\mu$ is conjugate to the restricted normal distribution."
   ]
  },
  {
   "cell_type": "markdown",
   "metadata": {},
   "source": [
    "## Problem 3.7\n",
    "\n",
    "**For the univariate normal distribution, find the functions $a[\\mathbf{x}]$, $\\mathbf{b}[\\mathbf{\\theta}]$, $\\mathbf{c}[\\mathbf{x}]$ and $d[\\mathbf{\\theta}]$ that allow it to be represented in the generalized form of the exponetential family.**"
   ]
  },
  {
   "cell_type": "markdown",
   "metadata": {
    "collapsed": true
   },
   "source": [
    "\\Define:\n",
    "\n",
    "\\begin{equation}\n",
    "\\begin{split}\n",
    "  a[\\mathbf{x}] &= 1 \\\\\n",
    "  \\mathbf{b}[\\mathbf{\\theta}] &= \\left(-\\frac{1}{2\\sigma^2}, \\frac{1}{\\sigma^2}\\right)^T \\\\\n",
    "  \\mathbf{c}[\\mathbf{x}] &= \\left(x^2, x \\right)^T \\\\\n",
    "  d[\\mathbf{\\theta}] &= \\frac{\\mu^2}{2\\sigma^2} + \\frac{1}{2}\\ln(2\\pi\\sigma^2) \\\\\n",
    "\\end{split}\n",
    "\\end{equation}\n",
    "\n",
    "Then the univariate normal distribution is written as:\n",
    "\n",
    "\\begin{equation}\n",
    "\\begin{split}\n",
    "  Pr(x) &= \\text{Norm}_x[\\mu, \\sigma^2] \\\\\n",
    "        &= \\frac{1}{\\sqrt{2\\pi\\sigma^2}}\\exp\\biggl[-\\frac{(x - \\mu)^2}{2\\sigma^2}\\biggr] \\\\\n",
    "        &= \\exp\\biggl[\\ln\\frac{1}{\\sqrt{2\\pi\\sigma^2}}\\biggr]\\exp\\biggl[-\\frac{(x - \\mu)^2}{2\\sigma^2}\\biggr] \\\\\n",
    "        &= \\exp\\biggl[-\\frac{x^2}{2\\sigma^2} + \\frac{x}{\\sigma^2} - \\left(\\frac{\\mu^2}{2\\sigma^2} + \\frac{1}{2}\\ln(2\\pi\\sigma^2)\\right)\\biggr] \\\\\n",
    "        &= a[\\mathbf{x}]\\exp[\\mathbf{b}[\\mathbf{\\theta}]^T\\mathbf{c}[\\mathbf{x}]-d[\\mathbf{\\theta}]].\n",
    "\\end{split}\n",
    "\\end{equation}"
   ]
  },
  {
   "cell_type": "markdown",
   "metadata": {
    "collapsed": true
   },
   "source": [
    "## Problem 3.8\n",
    "\n",
    "Calculate an expression for the mode (position of the peak in $\\mu$, $\\sigma^2$ space) of the normal scaled inverse gamma distribution in terms of the parameters $\\alpha, \\beta, \\gamma, \\sigma$."
   ]
  },
  {
   "cell_type": "markdown",
   "metadata": {
    "collapsed": true
   },
   "source": [
    "The normal-scaled inverse gamma distribution is written as:\n",
    "\n",
    "\\begin{equation}\n",
    "  Pr(\\mu, \\sigma^2) = \\frac{\\sqrt{\\gamma}}{\\sigma\\sqrt{2\\pi}}\\frac{\\beta^{\\alpha}}{\\Gamma[\\alpha]}\\left(\\frac{1}{\\sigma^2}\\right)^{\\alpha+1}\\exp\\left[-\\frac{2\\beta + \\gamma(\\delta - \\mu)^2}{2\\sigma^2}\\right],\n",
    "\\end{equation}"
   ]
  },
  {
   "cell_type": "markdown",
   "metadata": {},
   "source": [
    "The partial derivatives in terms of $\\mu$ is written as:\n",
    "\n",
    "\\begin{equation}\n",
    "  \\frac{d}{d\\mu}Pr(\\mu, \\sigma^2) = \\frac{\\sqrt{\\gamma}}{\\sigma\\sqrt{2\\pi}}\\frac{\\beta^{\\alpha}}{\\Gamma[\\alpha]}\\left(\\frac{1}{\\sigma^2}\\right)^{\\alpha+1}\\exp\\left[-\\frac{2\\beta + \\gamma(\\delta - \\mu)^2}{2\\sigma^2}\\right] \\cdot \\frac{\\gamma(\\delta - \\mu)}{\\sigma^2}\n",
    "\\end{equation}\n",
    "\n",
    "This gives us the insight of the mode of $\\mu$:\n",
    "\n",
    "\\begin{equation}\n",
    "  \\frac{d}{d\\mu}Pr(\\mu, \\sigma^2) = 0 \\implies \\frac{\\gamma(\\delta - \\mu)}{\\sigma^2} = 0 \\\\\n",
    "\\end{equation}\n",
    "\\begin{equation}\n",
    "  \\therefore \\mu = \\delta\n",
    "\\end{equation}"
   ]
  },
  {
   "cell_type": "markdown",
   "metadata": {},
   "source": [
    "Next, the partial derivatives in terms of $\\sigma^2$ is written as:\n",
    "\n",
    "\\begin{equation}\n",
    "\\begin{split}\n",
    "  &\\frac{d}{d\\sigma^2}Pr(\\mu, \\sigma^2) \\\\\n",
    "  &= \\frac{d}{d\\sigma}Pr(\\mu, \\sigma^2)\\frac{d\\sigma}{d\\sigma^2} \\\\\n",
    "  &= \\frac{\\sqrt{\\gamma}}{\\sqrt{2\\pi}}\\frac{\\beta^{\\alpha}}{\\Gamma[\\alpha]}\\exp\\left[-\\frac{2\\beta + \\gamma(\\delta - \\mu)^2}{2\\sigma^2}\\right]\n",
    "     \\left[\\left(\\frac{1}{\\sigma}\\right)'\\left(\\frac{1}{\\sigma^2}\\right)^{\\alpha+1} + \\frac{1}{\\sigma}\\left\\{\\left(\\frac{1}{\\sigma^2}\\right)^{\\alpha+1}\\right\\}' + \\frac{1}{\\sigma}\\left(\\frac{1}{\\sigma^2}\\right)^{\\alpha+1}\\left\\{-\\frac{2\\beta + \\gamma(\\delta - \\mu)^2}{2\\sigma^2}\\right\\}'\\right]\\frac{1}{2\\sigma} \\\\\n",
    "  &= \\frac{\\sqrt{\\gamma}}{\\sqrt{2\\pi}}\\frac{\\beta^{\\alpha}}{\\Gamma[\\alpha]}\\exp\\left[-\\frac{2\\beta + \\gamma(\\delta - \\mu)^2}{2\\sigma^2}\\right]\n",
    "     \\left[-\\frac{1}{\\sigma^2}\\left(\\frac{1}{\\sigma^2}\\right)^{\\alpha+1} + \\frac{1}{\\sigma}(\\alpha+1)\\left(\\frac{1}{\\sigma^2}\\right)^{\\alpha}\\left(-\\frac{2}{\\sigma^3}\\right) + \\frac{1}{\\sigma}\\left(\\frac{1}{\\sigma^2}\\right)^{\\alpha+1}\\frac{2\\beta + \\gamma(\\delta - \\mu)^2}{\\sigma^3}\\right]\\frac{1}{2\\sigma} \\\\\n",
    "  &= \\frac{\\sqrt{\\gamma}}{\\sqrt{2\\pi}}\\frac{\\beta^{\\alpha}}{\\Gamma[\\alpha]}\\exp\\left[-\\frac{2\\beta + \\gamma(\\delta - \\mu)^2}{2\\sigma^2}\\right]\n",
    "     \\left[-(2\\alpha + 3) + \\frac{2\\beta + \\gamma(\\delta - \\mu)^2}{\\sigma^2}\\right]\\left(\\frac{1}{\\sigma^2}\\right)^{\\alpha+2}\\frac{1}{2\\sigma} \\\\\n",
    "\\end{split}\n",
    "\\end{equation}\n",
    "\n",
    "The condition of the mode of $\\sigma^2$ is:\n",
    "\n",
    "\\begin{equation}\n",
    "  \\frac{d}{d\\mu}Pr(\\mu, \\sigma^2)\\bigg\\vert_{\\mu=\\delta} = 0 \\implies -(2\\alpha + 3) + \\frac{2\\beta}{\\sigma^2} = 0 \\\\\n",
    "\\end{equation}\n",
    "\\begin{equation}\n",
    "  \\therefore \\sigma^2 = \\frac{2\\beta}{2\\alpha + 3}\n",
    "\\end{equation}"
   ]
  },
  {
   "cell_type": "markdown",
   "metadata": {
    "collapsed": true
   },
   "source": [
    "## Problem 3.9\n",
    "\n",
    "**Show that the more general form of the conjugate relation in which we multiply $I$ Bernoulli distributions by the  conjugate beta prior is given by$$\n",
    "  \\displaystyle\\prod_{i=1}^{I}\\text{Bern}_{x_i}[\\lambda]\\cdot\\text{Beta}_{\\lambda}[\\alpha, \\beta] = \\kappa\\cdot\\text{Beta}_{\\lambda}[\\tilde{\\alpha}, \\tilde{\\beta}],\n",
    "$$ where $$\n",
    "\\begin{split}\n",
    "  \\kappa &= \\frac{\\Gamma[\\alpha+\\beta]\\Gamma[\\alpha+\\sum x_i]\\Gamma[\\beta+\\sum(1 - x_i)]}\n",
    "                 {\\Gamma[\\alpha+\\beta+I]\\Gamma[\\alpha]\\Gamma[\\beta]} \\\\\n",
    "  \\tilde{\\alpha} &= \\alpha + \\sum x_i \\\\\n",
    "  \\tilde{\\beta} &= \\beta + \\sum(1 - x_i) \\\\\n",
    "\\end{split}\n",
    "$$**"
   ]
  },
  {
   "cell_type": "markdown",
   "metadata": {},
   "source": [
    "\\begin{equation}\n",
    "\\begin{split}\n",
    "  &\\displaystyle\\prod_{i=1}^{I}\\text{Bern}_{x_i}[\\lambda]\\cdot\\text{Beta}_{\\lambda}[\\alpha, \\beta] \\\\\n",
    "    &= \\left(\\prod_{i=1}^{I}\\lambda^{x_i}(1 - \\lambda)^{1-x_i}\\right) \\frac{\\Gamma[\\alpha+\\beta]}{\\Gamma[\\alpha]\\Gamma[\\beta]}\\lambda^{\\alpha-1}(1-\\lambda)^{\\beta-1} \\\\\n",
    "    &= \\lambda^{\\sum x_i}(1 - \\lambda)^{\\sum(1-x_i)}\\frac{\\Gamma[\\alpha+\\beta]}{\\Gamma[\\alpha]\\Gamma[\\beta]}\\lambda^{\\alpha-1}(1-\\lambda)^{\\beta-1} \\\\\n",
    "    &= \\frac{\\Gamma[\\alpha+\\beta]}\n",
    "            {\\Gamma[\\alpha]\\Gamma[\\beta]}\n",
    "       \\lambda^{\\alpha + \\sum x_i -1}(1-\\lambda)^{\\beta + \\sum(1-x_i) -1} \\\\\n",
    "    &= \\frac{\\Gamma[\\alpha+\\beta]}{\\Gamma[\\alpha]\\Gamma[\\beta]}\n",
    "       \\frac{\\Gamma[\\alpha+\\sum x_i]\\Gamma[\\beta+\\sum(1 - x_i)]}\n",
    "            {\\Gamma[\\alpha+\\sum x_i + \\beta+\\sum(1 - x_i)]}\n",
    "       \\frac{\\Gamma[\\alpha+\\sum x_i + \\beta+\\sum(1 - x_i)]}\n",
    "            {\\Gamma[\\alpha+\\sum x_i]\\Gamma[\\beta+\\sum(1 - x_i)]}\n",
    "       \\lambda^{\\alpha + \\sum x_i -1}(1-\\lambda)^{\\beta + \\sum(1-x_i) -1} \\\\\n",
    "    &= \\frac{\\Gamma[\\alpha+\\beta]}{\\Gamma[\\alpha]\\Gamma[\\beta]}\n",
    "       \\frac{\\Gamma[\\alpha+\\sum x_i]\\Gamma[\\beta+\\sum(1 - x_i)]}\n",
    "            {\\Gamma[\\alpha + \\beta + I]}\n",
    "       \\frac{\\Gamma[\\alpha+\\sum x_i + \\beta+\\sum(1 - x_i)]}\n",
    "            {\\Gamma[\\alpha+\\sum x_i]\\Gamma[\\beta+\\sum(1 - x_i)]}\n",
    "        \\frac{\\Gamma[\\tilde{\\alpha}+\\tilde{\\beta}]}  \n",
    "             {\\Gamma[\\tilde{\\alpha}]\\Gamma[\\tilde{\\beta]}}\n",
    "        \\lambda^{\\tilde{\\alpha}-1}(1-\\lambda)^{\\tilde{\\beta}-1} \\\\\n",
    "     &= \\kappa\\cdot\\text{Beta}_{\\lambda}[\\tilde{\\alpha}, \\tilde{\\beta}]\n",
    "\\end{split}\n",
    "\\end{equation}"
   ]
  },
  {
   "cell_type": "markdown",
   "metadata": {},
   "source": []
  },
  {
   "cell_type": "markdown",
   "metadata": {
    "collapsed": true
   },
   "source": [
    "## Problem 3.9\n",
    "\n",
    "**Prove the conjugate relation$$\n",
    "  \\displaystyle\\prod_{i=1}^{I}\\text{Cat}_{x_i}[\\lambda_{1\\dots K}]\\cdot\\text{Dir}_{\\lambda}[\\alpha_{1\\dots K}] = \\kappa\\cdot\\text{Dir}_{\\lambda_{1\\dots K}}[\\tilde{\\alpha}_{1\\dots K}]\n",
    "$$ where $$\n",
    "\\begin{split}\n",
    "  \\kappa &= \\frac{\\Gamma\\left[\\sum_{j=1}^{K}\\alpha_j\\right]}\n",
    "                 {\\Gamma\\left[I+\\sum_{j=1}^{K}\\alpha_j\\right]}\n",
    "            \\frac{\\prod_{j=1}^{K}\\Gamma[\\alpha_j+N_j]}\n",
    "                 {\\prod_{j=1}^{K}\\Gamma[\\alpha_j]} \\\\\n",
    "  \\tilde{\\alpha}_{1\\dots K} &= [\\alpha_1 + N_1, \\alpha_2 + N_2, \\dots, \\alpha_K + N_K] \\\\\n",
    "\\end{split}\n",
    "$$ and $N_k$ is the total number of times that the variable took the value $k$.**"
   ]
  },
  {
   "cell_type": "markdown",
   "metadata": {
    "collapsed": true
   },
   "source": [
    "\\begin{equation}\n",
    "\\begin{split}\n",
    "  &\\displaystyle\\prod_{i=1}^{I}\\text{Cat}_{x_i}[\\lambda_{1\\dots K}]\\cdot\\text{Dir}_{\\lambda}[\\alpha_{1\\dots K}] \\\\\n",
    "  &= \\left(\\prod_{j=1}^{K}\\lambda_j^{N_j}\\right)\n",
    "     \\frac{\\Gamma\\left[\\sum_{j=1}^{K}\\alpha_j\\right]}\n",
    "          {\\prod_{j=1}^{K}\\Gamma[\\alpha_j]}\n",
    "     \\prod_{j=1}^{K}\\lambda_j^{\\alpha_j-1} \\\\\n",
    "  &= \\frac{\\Gamma\\left[\\sum_{j=1}^{K}\\alpha_j\\right]}\n",
    "          {\\prod_{j=1}^{K}\\Gamma[\\alpha_j]}\n",
    "     \\prod_{j=1}^{K}\\lambda_j^{\\alpha_j+N_j-1} \\\\\n",
    "  &= \\frac{\\Gamma\\left[\\sum_{j=1}^{K}\\alpha_j\\right]}\n",
    "          {\\prod_{j=1}^{K}\\Gamma[\\alpha_j]}\n",
    "     \\frac{\\prod_{j=1}^{K}\\Gamma[\\alpha_j+N_j]}\n",
    "          {\\Gamma\\left[\\sum_{j=1}^{K}(\\alpha_j+N_j)\\right]}\n",
    "     \\frac{\\Gamma\\left[\\sum_{j=1}^{K}(\\alpha_j+N_j)\\right]}\n",
    "          {\\prod_{j=1}^{K}\\Gamma[\\alpha_j+N_j]}\n",
    "     \\prod_{j=1}^{K}\\lambda_j^{\\alpha_j+N_j-1} \\\\\n",
    "  &= \\frac{\\Gamma\\left[\\sum_{j=1}^{K}\\alpha_j\\right]}\n",
    "          {\\prod_{j=1}^{K}\\Gamma[\\alpha_j]}\n",
    "     \\frac{\\prod_{j=1}^{K}\\Gamma[\\alpha_j+N_j]}\n",
    "          {\\Gamma\\left[I + \\sum_{j=1}^{K}\\alpha_j\\right]}\n",
    "     \\frac{\\Gamma\\left[\\sum_{j=1}^{K}\\tilde{\\alpha_j}\\right]}\n",
    "          {\\prod_{j=1}^{K}\\Gamma[\\tilde{\\alpha_j}]}\n",
    "     \\prod_{j=1}^{K}\\lambda_j^{\\tilde{\\alpha_j}-1} \\\\\n",
    "  &= \\kappa\\cdot\\text{Dir}_{\\lambda_{1\\dots K}}[\\tilde{\\alpha}_{1\\dots K}]\n",
    "\\end{split}\n",
    "\\end{equation}"
   ]
  },
  {
   "cell_type": "markdown",
   "metadata": {},
   "source": [
    "## Problem 3.11\n",
    "\n",
    "**Show that the conjugate relation between the normal and normal inverse gamma is given by**\n",
    "\n",
    "\\begin{equation}\n",
    "\\displaystyle\\prod_{i=1}^{I}\\text{Norm}_{x_i}[\\mu, \\sigma^2]\n",
    "\\cdot\\text{NormInvGam}_{\\mu, \\sigma^2}[\\alpha, \\beta, \\gamma, \\delta]\n",
    "  = \\kappa\\cdot\\text{NormInvGam}_{\\mu, \\sigma^2}[\\tilde{\\alpha},\\tilde{\\beta},\\tilde{\\gamma},\\tilde{\\delta}],\n",
    "\\end{equation}\n",
    "\n",
    "**where**\n",
    "\n",
    "\\begin{equation}\n",
    "\\begin{split}\n",
    "\\kappa &= \\frac{1}{(2\\pi)^{I/2}}\n",
    "          \\frac{\\sqrt{\\gamma}\\beta^{\\alpha}}\n",
    "               {\\sqrt{\\tilde{\\gamma}}\\tilde{\\beta}^{\\tilde{\\alpha}}}\n",
    "          \\frac{\\Gamma[\\tilde{\\alpha}]}{\\Gamma[\\alpha]} \\\\\n",
    "\\tilde{\\alpha} &= \\alpha + I/2 \\\\\n",
    "\\tilde{\\beta} &= \\frac{\\sum_i x_i^2}{2} + \\beta + \\frac{\\gamma\\delta^2}{2}\n",
    "                 - \\frac{\\left(\\gamma\\delta + \\sum_ix_i\\right)^2}{2(\\gamma + I)} \\\\\n",
    "\\tilde{\\gamma} &= \\gamma + I \\\\\n",
    "\\tilde{\\delta} &= \\frac{\\left(\\gamma\\delta + \\sum_ix_i\\right)}{\\gamma + I}.\n",
    "\\end{split}\n",
    "\\end{equation}"
   ]
  },
  {
   "cell_type": "markdown",
   "metadata": {},
   "source": [
    "\\begin{equation}\n",
    "\\begin{split}\n",
    "&\\displaystyle\\prod_{i=1}^{I}\\text{Norm}_{x_i}[\\mu, \\sigma^2]\n",
    "\\cdot\\text{NormInvGam}_{\\mu, \\sigma^2}[\\alpha, \\beta, \\gamma, \\delta] \\\\\n",
    "&=\n",
    "  \\frac{1}{(2\\pi\\sigma^2)^{I/2}}\n",
    "  \\exp\\left[-\\frac{\\sum(x_i-\\mu)^2}{2\\sigma^2}\\right]\n",
    "  \\frac{\\sqrt{\\gamma}}{\\sigma\\sqrt{2\\pi}}\n",
    "  \\frac{\\beta^{\\alpha}}{\\Gamma[\\alpha]}\n",
    "  \\left(\\frac{1}{\\sigma^2}\\right)^{\\alpha+1}\n",
    "  \\exp\\left[-\\frac{2\\beta+\\gamma(\\delta-\\mu)^2}{2\\sigma^2}\\right] \\\\\n",
    "&= \n",
    "  \\frac{1}{(2\\pi)^{I/2}}\n",
    "  \\frac{\\sqrt{\\gamma}}{\\sigma\\sqrt{2\\pi}}\n",
    "  \\frac{\\beta^{\\alpha}}{\\Gamma[\\alpha]}\n",
    "  \\left(\\frac{1}{\\sigma^2}\\right)^{\\alpha+I/2+1}\n",
    "  \\exp\\left[-\\frac{2\\beta+\\gamma(\\delta-\\mu)^2 + \\sum(x_i-\\mu)^2}{2\\sigma^2}\\right] \\\\\n",
    "\\end{split}\n",
    "\\end{equation}\n",
    "\n",
    "The numerator of the exponent value can be transformed into\n",
    "\n",
    "\\begin{equation}\n",
    "\\begin{split}\n",
    "  &-2\\beta+\\gamma(\\delta-\\mu)^2 + \\sum(x_i-\\mu)^2 \\\\\n",
    "  & = 2\\beta + \\gamma\\mu^2 - 2\\gamma\\delta\\mu + \\gamma\\delta^2 + \\sum x_i^2 - 2\\mu\\sum x_i + I\\mu^2 \\\\\n",
    "  & = 2\\beta + \\gamma\\mu^2 + \\sum x_i^2 -2\\left(\\gamma\\delta + \\sum x_i\\right)\\mu + (\\delta + I)\\mu^2 \\\\\n",
    "  & = 2\\left(\\beta + \\frac{\\sum x_i^2}{2} + \\frac{\\gamma\\mu^2}{2} - \\frac{\\left(\\gamma\\delta + \\sum x_i\\right)^2}{2(\\gamma + I)}\\right) + (\\gamma + I)\\left(\\frac{\\gamma\\delta + \\sum x_i}{\\gamma + I} - \\mu\\right)^2 \\\\\n",
    "  & = 2\\tilde{\\beta} + \\tilde{\\gamma}(\\tilde{\\delta} - \\mu)^2.\n",
    "\\end{split}\n",
    "\\end{equation}\n",
    "\n",
    "Hence, the original distribution is:\n",
    "\n",
    "\\begin{equation}\n",
    "\\begin{split}\n",
    "&\\displaystyle\\prod_{i=1}^{I}\\text{Norm}_{x_i}[\\mu, \\sigma^2]\n",
    "\\cdot\\text{NormInvGam}_{\\mu, \\sigma^2}[\\alpha, \\beta, \\gamma, \\delta] \\\\\n",
    "&=\n",
    "  \\frac{1}{(2\\pi)^{I/2}}\n",
    "  \\frac{\\sqrt{\\gamma}}{\\sigma\\sqrt{2\\pi}}\n",
    "  \\frac{\\beta^{\\alpha}}{\\Gamma[\\alpha]}\n",
    "  \\left(\\frac{1}{\\sigma^2}\\right)^{\\tilde{\\alpha}+1}\n",
    "  \\exp\\left[-\\frac{2\\tilde{\\beta} + \\tilde{\\gamma}(\\tilde{\\delta} - \\mu)^2}{2\\sigma^2}\\right] \\\\\n",
    "&=\n",
    "  \\frac{1}{(2\\pi)^{I/2}}\n",
    "  \\frac{\\sqrt{\\gamma}\\beta^{\\alpha}}{\\sqrt{\\tilde{\\gamma}}\\tilde{\\beta}^{\\tilde{\\alpha}}}\n",
    "  \\frac{\\Gamma[\\tilde{\\alpha}]}{\\Gamma[\\alpha]}\n",
    "  \\frac{\\sqrt{\\tilde{\\gamma}}}{\\sigma\\sqrt{2\\pi}}\n",
    "  \\frac{\\beta^{\\tilde{\\alpha}}}{\\Gamma[\\tilde{\\alpha}]}\n",
    "  \\left(\\frac{1}{\\sigma^2}\\right)^{\\tilde{\\alpha}+1}\n",
    "  \\exp\\left[-\\frac{2\\tilde{\\beta} + \\tilde{\\gamma}(\\tilde{\\delta} - \\mu)^2}{2\\sigma^2}\\right] \\\\\n",
    "& =\n",
    "  \\kappa\\cdot\\text{NormInvGam}_{\\mu, \\sigma^2}[\\tilde{\\alpha},\\tilde{\\beta},\\tilde{\\gamma},\\tilde{\\delta}].\n",
    "\\end{split}\n",
    "\\end{equation}"
   ]
  },
  {
   "cell_type": "markdown",
   "metadata": {},
   "source": [
    "## Problem 3.12\n",
    "\n",
    "**Show that the conjugate relationship between the multivariate normal and the normal inverse Wishart is given by**\n",
    "\n",
    "\\begin{equation*}\n",
    "\\displaystyle\\prod_{i=1}^{I}\\text{Norm}_{\\mathbf{x_i}}[\\mathbf{\\mu}, \\mathbf{\\Sigma}]\n",
    "\\cdot\\text{NorIWis}_{\\mathbf{\\mu}, \\mathbf{\\Sigma}}[\\alpha, \\mathbf{\\psi}, \\gamma, \\mathbf{\\delta}]\n",
    "  = \\kappa\\cdot\\text{NorIWis}_{\\mathbf{\\mu}, \\mathbf{\\Sigma}}[\\tilde{\\alpha}, \\mathbf{\\tilde{\\psi}}, \\tilde{\\gamma}, \\mathbf{\\tilde{\\delta}}],\n",
    "\\end{equation*}\n",
    "\n",
    "**where**\n",
    "\n",
    "\\begin{equation*}\n",
    "\\begin{split}\n",
    "\\kappa &= \\frac{1}{(\\pi)^{ID/2}}\n",
    "          \\frac{\\mathbf{\\psi}^{\\alpha/2}}{\\mathbf{\\tilde{\\psi}}^{\\tilde{\\alpha}/2}}\n",
    "          \\frac{\\Gamma_D[\\tilde{\\alpha}/2]}\n",
    "               {\\Gamma_D[\\alpha/2]}\n",
    "          \\frac{\\gamma^{D/2}}{\\tilde{\\gamma}^{D/2}} \\\\\n",
    "\\tilde{\\alpha} &= \\alpha + I \\\\\n",
    "\\tilde{\\mathbf{\\psi}} &=\n",
    "    \\mathbf{\\psi} + \\gamma\\mathbf{\\delta}\\mathbf{\\delta}^T\n",
    "     + \\sum_{i=1}^I\\mathbf{x}_i\\mathbf{x}_i^T\n",
    "     - \\frac{1}{(\\gamma + I)}\n",
    "       \\left(\\gamma\\mathbf{\\delta}+\\sum_{i=1}^I\\mathbf{x}_i\\right)\n",
    "       \\left(\\gamma\\mathbf{\\delta}+\\sum_{i=1}^I\\mathbf{x}_i\\right)^T \\\\\n",
    "\\tilde{\\gamma} &= \\gamma + I \\\\\n",
    "\\tilde{\\mathbf{\\delta}} &=\n",
    "    \\frac{\\gamma\\mathbf{\\delta} + \\sum_{i=1}^I\\mathbf{x_i}}{\\gamma + I}.\n",
    "\\end{split}\n",
    "\\end{equation*}\n",
    "\n",
    "\n",
    "**You may need to use the relation $\\mathrm{Tr}[\\mathbf{zz}^TA^{-1}] = \\mathbf{z}^TA^{-1}\\mathbf{z}$.**"
   ]
  },
  {
   "cell_type": "markdown",
   "metadata": {},
   "source": [
    "\\begin{equation}\n",
    "\\begin{split}\n",
    "&\\displaystyle\\prod_{i=1}^{I}\\text{Norm}_{\\mathbf{x_i}}[\\mathbf{\\mu}, \\mathbf{\\Sigma}]\n",
    "\\cdot\\text{NorIWis}_{\\mathbf{\\mu}, \\mathbf{\\Sigma}}[\\alpha, \\mathbf{\\psi}, \\gamma, \\mathbf{\\delta}]\n",
    "\\\\\n",
    "&= \\frac{1}{(2\\pi)^{I D/2}|\\mathbf{\\Sigma|}^{I/2}}\\exp\\left[-\\frac{\\sum(\\mathbf{x}_i - \\mathbf{\\mu})^T\\Sigma^{-1}(\\mathbf{x}_i - \\mathbf{\\mu})}{2}\\right] \\\\\n",
    "&  \\qquad \\times\\frac{\\gamma^{D/2}|\\mathbf{\\psi}|^{\\alpha/2}}{2^{\\alpha D/2}(2\\pi)^{D/2}|\\mathbf{\\Sigma|}^{(\\alpha+D+2)/2}\\Gamma_D[\\alpha/2]}\n",
    "   \\exp\\left[-\\frac{\\mathrm{Tr}[\\mathbf{\\psi}\\mathbf{\\Sigma}^{-1}]+ \\gamma(\\mathbf{\\mu} - \\mathbf{\\delta})^T\\mathbf{\\Sigma}^{-1}(\\mathbf{\\mu} - \\mathbf{\\delta})}{2}\\right] \\\\\n",
    "&= \\frac{1}{(\\pi)^{ID/2}}\\frac{\\gamma^{D/2}|\\mathbf{\\psi}|^{\\alpha/2}}{2^{(\\alpha+I) D/2}(2\\pi)^{D/2}|\\mathbf{\\Sigma|}^{(\\alpha+I+D+2)/2}\\Gamma_D[\\alpha/2]} \\\\\n",
    "&  \\qquad \\times\\exp\\left[-\\frac{\\sum(\\mathbf{x}_i - \\mathbf{\\mu})^T\\mathbf{\\Sigma}^{-1}(\\mathbf{x}_i - \\mathbf{\\mu}) + \\mathrm{Tr}[\\mathbf{\\psi}\\mathbf{\\Sigma}^{-1}]+ \\gamma(\\mathbf{\\mu} - \\mathbf{\\delta})^T\\mathbf{\\Sigma}^{-1}(\\mathbf{\\mu} - \\mathbf{\\delta})}{2}\\right] \\\\\n",
    "\\end{split}\n",
    "\\end{equation}"
   ]
  },
  {
   "cell_type": "markdown",
   "metadata": {},
   "source": [
    "The numerator of the exponent value can be transformed to\n",
    "\n",
    "\\begin{equation}\n",
    "\\begin{split}\n",
    "&\\sum(\\mathbf{x}_i - \\mathbf{\\mu})^T\\mathbf{\\Sigma}^{-1}(\\mathbf{x}_i - \\mathbf{\\mu}) + \\mathrm{Tr}[\\mathbf{\\psi\\Sigma}^{-1}]+ \\gamma(\\mathbf{\\mu} - \\mathbf{\\delta})^T\\mathbf{\\Sigma}^{-1}(\\mathbf{\\mu} - \\mathbf{\\delta}) \\\\\n",
    "&= \\sum(\\mathbf{x}_i^T\\mathbf{\\Sigma}^{-1}\\mathbf{x}_i - 2\\mathbf{\\mu}^T\\mathbf{\\Sigma}^{-1}\\mathbf{x}_i+\\mathbf{\\mu}^T\\mathbf{\\Sigma}^{-1}\\mathbf{\\mu})\n",
    "   + \\mathrm{Tr}[\\mathbf{\\psi\\Sigma}^{-1}]\n",
    "   + \\gamma\\mathbf{\\mu}^T\\mathbf{\\Sigma}^{-1}\\mathbf{\\mu} - 2\\delta\\mathbf{\\mu}^T\\mathbf{\\Sigma}^{-1}\\mathbf{\\delta} + \\gamma\\mathbf{\\delta}^T\\mathbf{\\Sigma}^{-1}\\mathbf{\\delta} \\\\\n",
    "&= (\\gamma + I)\\mathbf{\\mu}^T\\mathbf{\\Sigma}^{-1}\\mathbf{\\mu} -2\\mathbf{\\mu}^T\\mathbf{\\Sigma}^{-1}\\left(\\gamma\\mathbf{\\delta} + \\sum\\mathbf{x}_i\\right)\n",
    "   + \\mathrm{Tr}[\\mathbf{\\psi\\Sigma}^{-1}] + \\gamma\\mathbf{\\delta}^T\\mathbf{\\Sigma}^{-1}\\mathbf{\\delta} + \\sum\\mathbf{x}_i^T\\mathbf{\\Sigma}^{-1}\\mathbf{x} \\\\\n",
    "&= (\\gamma + I)\\left(\\mathbf{\\mu} - \\frac{\\gamma\\mathbf{\\delta} + \\sum\\mathbf{x}_i}{\\gamma + I}\\right)^T\\mathbf{\\Sigma}^{-1}\\left(\\mathbf{\\mu} - \\frac{\\gamma\\mathbf{\\delta} + \\sum\\mathbf{x}_i}{\\gamma + I}\\right) \\\\\n",
    "&  \\qquad - (\\gamma + I)\\left(\\frac{\\gamma\\mathbf{\\delta} + \\sum\\mathbf{x}_i}{\\gamma + I}\\right)^T\\mathbf{\\Sigma}^{-1}\\left(\\frac{\\gamma\\mathbf{\\delta} + \\sum\\mathbf{x}_i}{\\gamma + I}\\right)\n",
    "    + \\mathrm{Tr}[\\mathbf{\\psi\\Sigma}^{-1}] + \\gamma\\mathbf{\\delta}^T\\mathbf{\\Sigma}^{-1}\\mathbf{\\delta} + \\sum\\mathbf{x}_i^T\\mathbf{\\Sigma}^{-1}\\mathbf{x} \\\\\n",
    "&= (\\gamma + I)\\left(\\mathbf{\\mu} - \\frac{\\gamma\\mathbf{\\delta} + \\sum\\mathbf{x}_i}{\\gamma + I}\\right)^T\\mathbf{\\Sigma}^{-1}\\left(\\mathbf{\\mu} - \\frac{\\gamma\\mathbf{\\delta} + \\sum\\mathbf{x}_i}{\\gamma + I}\\right) \\\\\n",
    "&  \\qquad - \\frac{1}{\\gamma + I}\\biggl(\\gamma\\mathbf{\\delta} + \\sum\\mathbf{x}_i\\biggr)^T\\mathbf{\\Sigma}^{-1}\\biggl(\\gamma\\mathbf{\\delta} + \\sum\\mathbf{x}_i\\biggr)\n",
    "    + \\mathrm{Tr}[\\mathbf{\\psi\\Sigma}^{-1}] + \\gamma\\mathbf{\\delta}^T\\mathbf{\\Sigma}^{-1}\\mathbf{\\delta} + \\sum\\mathbf{x}_i^T\\mathbf{\\Sigma}^{-1}\\mathbf{x} \\\\\n",
    "&= (\\gamma + I)\\left(\\mathbf{\\mu} - \\frac{\\gamma\\mathbf{\\delta} + \\sum\\mathbf{x}_i}{\\gamma + I}\\right)^T\\mathbf{\\Sigma}^{-1}\\left(\\mathbf{\\mu} - \\frac{\\gamma\\mathbf{\\delta} + \\sum\\mathbf{x}_i}{\\gamma + I}\\right) \\\\\n",
    "&  \\qquad - \\mathrm{Tr}\\left[\\frac{1}{\\gamma + I}\\biggl(\\gamma\\mathbf{\\delta} + \\sum\\mathbf{x}_i\\biggr)\\biggl(\\gamma\\mathbf{\\delta} + \\sum\\mathbf{x}_i\\biggr)^T\\mathbf{\\Sigma}^{-1}\\right]\n",
    "    + \\mathrm{Tr}[\\mathbf{\\psi\\Sigma}^{-1}] + \\mathrm{Tr}[\\gamma\\mathbf{\\delta}\\mathbf{\\delta}^T\\mathbf{\\Sigma}^{-1}] + \\mathrm{Tr}\\biggl[\\sum\\mathbf{x}\\mathbf{x}_i^T\\mathbf{\\Sigma}^{-1}\\biggr] \\\\\n",
    "&= (\\gamma + I)\\left(\\mathbf{\\mu} - \\frac{\\gamma\\mathbf{\\delta} + \\sum\\mathbf{x}_i}{\\gamma + I}\\right)^T\\mathbf{\\Sigma}^{-1}\\left(\\mathbf{\\mu} - \\frac{\\gamma\\mathbf{\\delta} + \\sum\\mathbf{x}_i}{\\gamma + I}\\right) \\\\\n",
    "&  \\qquad + \\mathrm{Tr}\\left[\\left\\{\\psi + \\gamma\\mathbf{\\delta}\\mathbf{\\delta}^T + \\sum_{i=1}^I\\mathbf{x}_i\\mathbf{x}_i^T\n",
    "     - \\frac{1}{(\\gamma + I)}\\left(\\gamma\\mathbf{\\delta}+\\sum_{i=1}^I\\mathbf{x}_i\\right)\\left(\\gamma\\mathbf{\\delta}+\\sum_{i=1}^I\\mathbf{x}_i\\right)^T\\right\\}\\mathbf{\\Sigma}^{-1}\\right] \\\\\n",
    "&= \\tilde{\\gamma}(\\mathbf{\\mu} - \\tilde{\\mathbf{\\delta}})^T\\mathbf{\\Sigma}^{-1}(\\mathbf{\\mu} - \\tilde{\\mathbf{\\delta}}) + \\mathrm{Tr}[\\tilde{\\mathbf{\\psi}}\\mathbf{\\Sigma}^{-1}].\n",
    "\\end{split}\n",
    "\\end{equation}"
   ]
  },
  {
   "cell_type": "markdown",
   "metadata": {},
   "source": [
    "Hence, the original distribution is:\n",
    "\n",
    "\\begin{equation}\n",
    "\\begin{split}\n",
    "&\\displaystyle\\prod_{i=1}^{I}\\text{Norm}_{\\mathbf{x_i}}[\\mathbf{\\mu}, \\mathbf{\\Sigma}]\n",
    "\\cdot\\text{NorIWis}_{\\mathbf{\\mu}, \\mathbf{\\Sigma}}[\\alpha, \\mathbf{\\psi}, \\gamma, \\mathbf{\\delta}]\n",
    "\\\\\n",
    "&= \\frac{1}{(\\pi)^{ID/2}}\\frac{\\gamma^{D/2}|\\tilde{\\mathbf{\\psi}}|^{\\alpha/2}}{2^{\\tilde{\\alpha}D/2}(2\\pi)^{D/2}|\\mathbf{\\Sigma|}^{(\\tilde{\\alpha}+D+2)/2}\\Gamma_D[\\alpha/2]} \\\\\n",
    "&  \\qquad \\times\\exp\\left[-\\frac{\\tilde{\\gamma}(\\mathbf{\\mu} - \\mathbf{\\tilde{\\delta}})^T\\mathbf{\\Sigma}^{-1}(\\mathbf{\\mu} - \\mathbf{\\tilde{\\delta}}) + \\mathrm{Tr}[\\mathbf{\\tilde{\\psi}}\\mathbf{\\Sigma}^{-1}]}{2}\\right] \\\\\n",
    "&= \\frac{1}{(\\pi)^{ID/2}} \\frac{|\\mathbf{\\psi}|^{\\alpha/2}}{|\\tilde{\\mathbf{\\psi}}|^{\\tilde{\\alpha}/2}} \\frac{\\Gamma_D[\\tilde{\\alpha}/2]}{\\Gamma_D[\\alpha/2]} \\frac{\\gamma^{D/2}}{\\tilde{\\gamma}^{D/2}}\n",
    "   \\frac{\\gamma^{D/2}|\\mathbf{\\tilde{\\psi}}|^{\\alpha/2}}{2^{\\tilde{\\alpha}D/2}(2\\pi)^{D/2}|\\mathbf{\\Sigma|}^{(\\tilde{\\alpha}+D+2)/2}\\Gamma_D[\\tilde{\\alpha}/2]} \\\\\n",
    "&  \\qquad \\times\\exp\\left[-\\frac{\\tilde{\\gamma}(\\mathbf{\\mu} - \\mathbf{\\tilde{\\delta}})^T\\mathbf{\\Sigma}^{-1}(\\mathbf{\\mu} - \\mathbf{\\tilde{\\delta}}) + \\mathrm{Tr}[\\mathbf{\\tilde{\\psi}}\\mathbf{\\Sigma}^{-1}]}{2}\\right] \\\\\n",
    "&= \\kappa\\cdot\\text{NorIWis}_{\\mathbf{\\mu}, \\Sigma}[\\tilde{\\alpha}, \\mathbf{\\tilde{\\psi}}, \\tilde{\\gamma}, \\mathbf{\\tilde{\\delta}}].\n",
    "\\end{split}\n",
    "\\end{equation}"
   ]
  },
  {
   "cell_type": "code",
   "execution_count": null,
   "metadata": {
    "collapsed": true
   },
   "outputs": [],
   "source": []
  }
 ],
 "metadata": {
  "_draft": {
   "nbviewer_url": "https://gist.github.com/2d15fe00f6d49edd140b38d825455687"
  },
  "gist": {
   "data": {
    "description": "CVmodels/Ch.03 Common probability distributions.ipynb",
    "public": true
   },
   "id": "2d15fe00f6d49edd140b38d825455687"
  },
  "hide_input": false,
  "kernelspec": {
   "display_name": "Python 3",
   "language": "python",
   "name": "python3"
  },
  "language_info": {
   "codemirror_mode": {
    "name": "ipython",
    "version": 3
   },
   "file_extension": ".py",
   "mimetype": "text/x-python",
   "name": "python",
   "nbconvert_exporter": "python",
   "pygments_lexer": "ipython3",
   "version": "3.6.2"
  },
  "toc": {
   "colors": {
    "hover_highlight": "#DAA520",
    "navigate_num": "#000000",
    "navigate_text": "#333333",
    "running_highlight": "#FF0000",
    "selected_highlight": "#FFD700",
    "sidebar_border": "#EEEEEE",
    "wrapper_background": "#FFFFFF"
   },
   "moveMenuLeft": true,
   "nav_menu": {
    "height": "30px",
    "width": "252px"
   },
   "navigate_menu": true,
   "number_sections": false,
   "sideBar": true,
   "threshold": 4,
   "toc_cell": false,
   "toc_section_display": "block",
   "toc_window_display": false,
   "widenNotebook": false
  }
 },
 "nbformat": 4,
 "nbformat_minor": 2
}
